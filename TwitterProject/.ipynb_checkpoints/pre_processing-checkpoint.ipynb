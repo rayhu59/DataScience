{
 "cells": [
  {
   "cell_type": "code",
   "execution_count": null,
   "metadata": {
    "collapsed": true
   },
   "outputs": [],
   "source": [
    "import numpy as np\n",
    "import math\n",
    "import matplotlib.pyplot as plt\n",
    "from mpl_toolkits import  mplot3d\n",
    "from mpl_toolkits.mplot3d import Axes3D\n",
    "\n",
    "\n",
    "\n"
   ]
  },
  {
   "cell_type": "code",
   "execution_count": null,
   "metadata": {
    "collapsed": true
   },
   "outputs": [],
   "source": []
  },
  {
   "cell_type": "code",
   "execution_count": null,
   "metadata": {},
   "outputs": [
    {
     "name": "stdout",
     "output_type": "stream",
     "text": [
      "100\n"
     ]
    },
    {
     "name": "stderr",
     "output_type": "stream",
     "text": [
      "C:\\Users\\raych\\Anaconda3\\lib\\site-packages\\ipykernel_launcher.py:27: RuntimeWarning: divide by zero encountered in double_scalars\n",
      "C:\\Users\\raych\\Anaconda3\\lib\\site-packages\\ipykernel_launcher.py:28: RuntimeWarning: divide by zero encountered in double_scalars\n"
     ]
    },
    {
     "name": "stdout",
     "output_type": "stream",
     "text": [
      "101\n"
     ]
    }
   ],
   "source": [
    "\n",
    "\n",
    "\n",
    "\n",
    "points = []\n",
    "points2 = []\n",
    "for n in range(100,500):                   # n instances\n",
    "    print(n)\n",
    "    for d in range(1,101):                  # d dimensions\n",
    "        track = []\n",
    "        track2 = []\n",
    "        data = np.random.randint(low=1,high=100 ,size=(n, d))  # generate n d-dimensional points with feature value 0-100\n",
    "        for x in range(n):\n",
    "            for y in range(x,n):\n",
    "                if x != y:\n",
    "                    try:\n",
    "                        dist = np.linalg.norm(data[x] - data[y])  #euclidean distance\n",
    "                        dist2 = np.linalg.norm(data[x]-data[y],ord=1)  # first-order distance\n",
    "                        track.append(dist)\n",
    "                        track2.append(dist2)\n",
    "                    except:\n",
    "                        print(\"ignoring this pair due to divide by 0 error\")\n",
    "        min_val = min(track)\n",
    "        max_val = max(track)\n",
    "        min_val2 = min(track2)\n",
    "        max_val2 = max(track2)\n",
    "        gamma_func = math.log((max_val - min_val)/min_val)\n",
    "        gamma_func2 = math.log((max_val2 - min_val2)/min_val2)\n",
    "        points.append([n,d,gamma_func])\n",
    "        points2.append([n,d,gamma_func2])\n",
    "\n",
    "        "
   ]
  },
  {
   "cell_type": "code",
   "execution_count": null,
   "metadata": {},
   "outputs": [],
   "source": [
    "points.pop(0)\n",
    "points2.pop(0)"
   ]
  },
  {
   "cell_type": "code",
   "execution_count": null,
   "metadata": {
    "collapsed": true
   },
   "outputs": [],
   "source": [
    "data = np.array(points)\n",
    "instances = data[:,0]\n",
    "dimensions = data[:,1]\n",
    "gamma = data[:,2]"
   ]
  },
  {
   "cell_type": "code",
   "execution_count": null,
   "metadata": {},
   "outputs": [],
   "source": [
    "plot = plt.axes(projection='3d')\n",
    "plot.set_title(\"euclidean distance\")\n",
    "plot.scatter3D(instances,dimensions,gamma)"
   ]
  },
  {
   "cell_type": "code",
   "execution_count": null,
   "metadata": {},
   "outputs": [],
   "source": [
    "data2 = np.array(points2)\n",
    "instances2 = data2[:,0]\n",
    "dimensions2 = data2[:,1]\n",
    "gamma2 = data2[:,2]\n",
    "\n",
    "plot2 = plt.axes(projection='3d')\n",
    "plot2.set_title(\"L1 distance\")\n",
    "plot2.scatter3D(instances2,dimensions2,gamma2)"
   ]
  },
  {
   "cell_type": "code",
   "execution_count": null,
   "metadata": {},
   "outputs": [],
   "source": [
    "plot2 = plt.axes(projection='3d')\n",
    "plot2.set_title(\"L1 distance\")\n",
    "plot2.scatter3D(instances2,dimensions2,gamma2)"
   ]
  }
 ],
 "metadata": {
  "kernelspec": {
   "display_name": "Python 3",
   "language": "python",
   "name": "python3"
  },
  "language_info": {
   "codemirror_mode": {
    "name": "ipython",
    "version": 3
   },
   "file_extension": ".py",
   "mimetype": "text/x-python",
   "name": "python",
   "nbconvert_exporter": "python",
   "pygments_lexer": "ipython3",
   "version": "3.6.3"
  }
 },
 "nbformat": 4,
 "nbformat_minor": 1
}
